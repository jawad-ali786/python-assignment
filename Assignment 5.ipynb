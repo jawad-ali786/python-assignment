{
 "cells": [
  {
   "cell_type": "code",
   "execution_count": 1,
   "metadata": {},
   "outputs": [
    {
     "name": "stdout",
     "output_type": "stream",
     "text": [
      "Input a number to compute the factiorial : 4\n",
      "The factorial Of  4 Is : 24\n"
     ]
    }
   ],
   "source": [
    "#Q.1\n",
    "def factorial(num):\n",
    "    if num == 0:\n",
    "        return 1\n",
    "    elif num < 0:\n",
    "        print(\"the factorial of Negative number is Doesn't exists\")\n",
    "    else:\n",
    "        return num * factorial(num-1)\n",
    "num=int(input(\"Input a number to compute the factiorial : \"))\n",
    "print(\"The factorial Of \" , num , \"Is :\" ,factorial(num))\n"
   ]
  },
  {
   "cell_type": "code",
   "execution_count": 3,
   "metadata": {},
   "outputs": [
    {
     "name": "stdout",
     "output_type": "stream",
     "text": [
      "enter Any String  Both Letter Upper And Lower : AAaa\n",
      "Upper Case Letter In The String Are : 2 Lower Case Letter In The String Are : 2\n"
     ]
    }
   ],
   "source": [
    "#Q.2 \n",
    "\n",
    "def calcltt(string):\n",
    "    upper = 0\n",
    "    lower = 0\n",
    "    standardString = 'abcdefghijklmnopqrstuvwxyz'\n",
    "    for letter in string:\n",
    "        for sampleLetter  in standardString:\n",
    "            if letter == sampleLetter:\n",
    "                lower += 1\n",
    "            elif  letter == sampleLetter.upper():\n",
    "                upper += 1\n",
    "    print(\"Upper Case Letter In The String Are :\" , upper ,\"Lower Case Letter In The String Are :\",lower)\n",
    "\n",
    "string = input(\"enter Any String  Both Letter Upper And Lower : \") \n",
    "calcltt(string)"
   ]
  },
  {
   "cell_type": "code",
   "execution_count": 4,
   "metadata": {},
   "outputs": [
    {
     "name": "stdout",
     "output_type": "stream",
     "text": [
      "546\n",
      "1344\n",
      "464\n",
      "41654\n",
      "1464\n",
      "1634\n",
      "14\n",
      "This is even number from the list :) \n"
     ]
    }
   ],
   "source": [
    "#Q.3\n",
    "\n",
    "list = [546,165,1344,464,41654,1464,1634,13,14]\n",
    "for i in list:\n",
    "    if i % 2 == 0:\n",
    "        print( i )\n",
    "\n",
    "print (\"This is even number from the list :) \")"
   ]
  },
  {
   "cell_type": "code",
   "execution_count": 30,
   "metadata": {},
   "outputs": [
    {
     "name": "stdout",
     "output_type": "stream",
     "text": [
      "Enter any word: Madam\n",
      "Madam is a Palindrom\n"
     ]
    }
   ],
   "source": [
    "#Q.4\n",
    "def Palindrom(Word):\n",
    "    \n",
    "    firstHalf = []  \n",
    "    secondHalf = []  \n",
    "    if len(Word) % 2 == 1:\n",
    "            oddList = (len(Word) // 2)\n",
    "            for element in range(oddList):\n",
    "                 firstHalf.append(Word[element])   \n",
    "            for element in range(-1, -(len(Word)-oddList), -1):     \n",
    "                 secondHalf.append(Word[element])     \n",
    "    else:\n",
    "        print(\"Not palindrom Word\")    \n",
    "    palindrom = False\n",
    "    for element in range(len(firstHalf)):\n",
    "          if firstHalf[element] == secondHalf[element]:\n",
    "                palindrom = True    \n",
    "    if palindrom == True:         \n",
    "            print(\"{} is a Palindrom\".format(Word))   \n",
    "    else:       \n",
    "            print(\"Not a palindrom\")\n",
    "            \n",
    "Word = input('Enter any word: ')\n",
    "Palindrom(Word)"
   ]
  },
  {
   "cell_type": "code",
   "execution_count": 35,
   "metadata": {},
   "outputs": [
    {
     "name": "stdout",
     "output_type": "stream",
     "text": [
      "Please Enter Number For Check it Is Prime Or Not.11\n",
      "Entered number is : 11 and it is  a prime number.\n"
     ]
    }
   ],
   "source": [
    "#Q.5\n",
    "def primechk(num):\n",
    "    if num == 0:\n",
    "          print(\" You Enter Zero. :) \")\n",
    "    elif num == 1 or num == 2:\n",
    "          print(\" Enter Only Positive Integer, :( \")\n",
    "    else:      \n",
    "          for i in range(2,num):\n",
    "            if (num % i == 0):\n",
    "                print(\"Entered number is :\", num,\n",
    "                      \"and it is not a prime number.\")\n",
    "                break\n",
    "            else:\n",
    "                print(\"Entered number is :\",num,\n",
    "                      \"and it is  a prime number.\")\n",
    "                break\n",
    "\n",
    "num = int(input(\"Please Enter Number For Check it Is Prime Or Not.\"))\n",
    "primechk(num)\n",
    "    "
   ]
  },
  {
   "cell_type": "code",
   "execution_count": 39,
   "metadata": {},
   "outputs": [
    {
     "name": "stdout",
     "output_type": "stream",
     "text": [
      "Enter Shopping item [0 to abort]: Food\n",
      "Enter Shopping item [0 to abort]: Good\n",
      "Enter Shopping item [0 to abort]: Things\n",
      "Enter Shopping item [0 to abort]: Jawad\n",
      "Enter Shopping item [0 to abort]: 0\n",
      "You purchased:  Food\n",
      "You purchased:  Good\n",
      "You purchased:  Things\n",
      "You purchased:  Jawad\n"
     ]
    }
   ],
   "source": [
    "#Q.6\n",
    "def shoppingList(*items):\n",
    "     \n",
    "    shoppingItems = []\n",
    "    while True:\n",
    "        item = input(\"Enter Shopping item [0 to abort]: \")\n",
    "        if item != '0' :\n",
    "            shoppingItems.append(item)\n",
    "        else:\n",
    "            break;\n",
    "    for item in range(len(shoppingItems)):\n",
    "             print(\"You purchased: \", shoppingItems[item])\n",
    "shoppingList()"
   ]
  },
  {
   "cell_type": "code",
   "execution_count": null,
   "metadata": {},
   "outputs": [],
   "source": []
  }
 ],
 "metadata": {
  "kernelspec": {
   "display_name": "Python 3",
   "language": "python",
   "name": "python3"
  },
  "language_info": {
   "codemirror_mode": {
    "name": "ipython",
    "version": 3
   },
   "file_extension": ".py",
   "mimetype": "text/x-python",
   "name": "python",
   "nbconvert_exporter": "python",
   "pygments_lexer": "ipython3",
   "version": "3.7.4"
  }
 },
 "nbformat": 4,
 "nbformat_minor": 2
}
