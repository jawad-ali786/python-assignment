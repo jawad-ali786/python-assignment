{
 "cells": [
  {
   "cell_type": "code",
   "execution_count": 1,
   "metadata": {},
   "outputs": [
    {
     "name": "stdout",
     "output_type": "stream",
     "text": [
      "{'first_name': 'Jawad', 'last_name': 'Ali', 'Country': 'Pakistan', 'City': 'Karachi', 'Age': 20}\n",
      "\n",
      "\n",
      "{'first_name': 'Jawad', 'last_name': 'Ali', 'Country': 'Pakistan', 'City': 'Karachi', 'Age': 20, 'Qualification': 'H.S.C'}\n",
      "\n",
      "\n",
      "{'first_name': 'Jawad', 'last_name': 'Ali', 'Country': 'Pakistan', 'City': 'Karachi', 'Age': 20, 'Qualification': 'Undergraduate'}\n",
      "\n",
      "\n",
      "{'first_name': 'Jawad', 'last_name': 'Ali', 'City': 'Karachi', 'Age': 20, 'Qualification': 'Undergraduate'}\n"
     ]
    }
   ],
   "source": [
    "#Q.1 \n",
    "student = { \n",
    "            'first_name'  :  \"Jawad\",\n",
    "            'last_name'   :  \"Ali\",\n",
    "            'Country'     :  \"Pakistan\",\n",
    "            'City'        :  \"Karachi\",\n",
    "            'Age'         :  20\n",
    "}\n",
    "\n",
    "print( student)\n",
    "print(\"\\n\")\n",
    "\n",
    "student[\"Qualification\"] = \"H.S.C\"\n",
    "print(student)\n",
    "print(\"\\n\")\n",
    "\n",
    "\n",
    "student.update({'Qualification': \"Undergraduate\"})\n",
    "print(student)\n",
    "print(\"\\n\")\n",
    "\n",
    "\n",
    "del student['Country']\n",
    "print(student)"
   ]
  },
  {
   "cell_type": "code",
   "execution_count": 2,
   "metadata": {},
   "outputs": [
    {
     "name": "stdout",
     "output_type": "stream",
     "text": [
      "Karachi\n",
      "\n",
      "\n",
      "{'Country': 'Pakistan', 'Fact': 'The City Of Lights.', 'Population ': 'The current population of Karachi in 2019 is 15,741,000.'}\n",
      "\n",
      "\n",
      "Delhi\n",
      "\n",
      "\n",
      "{'Country': 'India', 'Fact': 'Delhi is the home to the largest market of spices in Asia.', 'Population': 'The Population of Delhi is 18.6 million.'}\n",
      "\n",
      "\n",
      "Shanghai\n",
      "\n",
      "\n",
      "{'Country': 'China', 'Fact': 'Delhi is the home to the largest market of spices in Asia.', 'Population': 'The Population of Shanghai is 26,317,000.'}\n",
      "\n",
      "\n"
     ]
    }
   ],
   "source": [
    "#Q.2 \n",
    "\n",
    "data = {\n",
    "        'Karachi' : {\n",
    "                     \"Country\"     : \"Pakistan\",\n",
    "                     \"Fact\"        : \"The City Of Lights.\",\n",
    "                     \"Population \" : \"The current population of Karachi in 2019 is 15,741,000.\",\n",
    "                    },\n",
    "        'Delhi'   : { \n",
    "                   \"Country\"       : \"India\",\n",
    "                   \"Fact\"          : \"Delhi is the home to the largest market of spices in Asia.\",\n",
    "                   \"Population\"    : \"The Population of Delhi is 18.6 million.\",\n",
    "                    },\n",
    "        'Shanghai' : {\n",
    "                   \"Country\"       : \"China\",\n",
    "                   \"Fact\"          : \"Delhi is the home to the largest market of spices in Asia.\",\n",
    "                   \"Population\"    : \"The Population of Shanghai is 26,317,000.\",\n",
    "                     }\n",
    "}\n",
    "\n",
    "for name in data.keys():\n",
    "        print(name)\n",
    "        print(\"\\n\")\n",
    "        print(data[name])\n",
    "        print(\"\\n\")\n",
    "        \n"
   ]
  },
  {
   "cell_type": "code",
   "execution_count": 4,
   "metadata": {},
   "outputs": [
    {
     "name": "stdout",
     "output_type": "stream",
     "text": [
      "Please Enter Your Age To Tell you about the price of ticket : 15\n",
      "Your Age Is :15\n",
      "The Ticket Price Is 15$\n"
     ]
    }
   ],
   "source": [
    "#Q.3 \n",
    "i = 0\n",
    "while  i == 0:\n",
    "    age = int(input(\"Please Enter Your Age To Tell you about the price of ticket : \"))\n",
    "    print(\"Your Age Is :\" + str(age))\n",
    "    if age <= 3 :\n",
    "        print (\"The Ticket Is Free\") \n",
    "        break;\n",
    "    elif age >3 and age <= 12:\n",
    "        print (\"The Ticket Price Is 10$ \")\n",
    "        break;\n",
    "    elif age > 12:\n",
    "        print(\"The Ticket Price Is 15$\")\n",
    "        break;"
   ]
  },
  {
   "cell_type": "code",
   "execution_count": 5,
   "metadata": {},
   "outputs": [
    {
     "name": "stdout",
     "output_type": "stream",
     "text": [
      "My Favorite Book Is Shayad Jaun Elia\n"
     ]
    }
   ],
   "source": [
    "#Q .4\n",
    "    \n",
    "def favorite_book(title):\n",
    "        print(\"My Favorite Book Is \" + title)\n",
    "        \n",
    "title = \"Shayad Jaun Elia\"\n",
    "favorite_book(title)\n"
   ]
  },
  {
   "cell_type": "code",
   "execution_count": 6,
   "metadata": {},
   "outputs": [
    {
     "name": "stdout",
     "output_type": "stream",
     "text": [
      "Please enter your guess: 15\n",
      "Your Guess is Smaller Than the Actual\n",
      "Please enter your guess: 24\n",
      "Your guess is Greater Than the Actual\n",
      "Please enter your guess: 20\n",
      "Your Guess is Smaller Than the Actual\n",
      "You Are Lose , Try Better Luck Next Time ;(  22\n"
     ]
    }
   ],
   "source": [
    "#Q.5 \n",
    "\n",
    "import random\n",
    " \n",
    "hidden = random.randrange(1, 30)\n",
    "\n",
    "gueses_taken = 0\n",
    "while gueses_taken < 3:\n",
    "    guess = int(input(\"Please enter your guess: \"))\n",
    "    gueses_taken = gueses_taken + 1\n",
    "    if guess < hidden:\n",
    "        print(\"Your Guess is Smaller Than the Actual\")\n",
    "    elif guess > hidden:\n",
    "        print(\"Your guess is Greater Than the Actual\")\n",
    "    else:   \n",
    "        break;\n",
    "if guess == hidden :\n",
    "    print(\"Winner :) !!! \")\n",
    "else:\n",
    "    print(\"You Are Lose , Try Better Luck Next Time ;( \", hidden)\n"
   ]
  }
 ],
 "metadata": {
  "kernelspec": {
   "display_name": "Python 3",
   "language": "python",
   "name": "python3"
  },
  "language_info": {
   "codemirror_mode": {
    "name": "ipython",
    "version": 3
   },
   "file_extension": ".py",
   "mimetype": "text/x-python",
   "name": "python",
   "nbconvert_exporter": "python",
   "pygments_lexer": "ipython3",
   "version": "3.7.4"
  }
 },
 "nbformat": 4,
 "nbformat_minor": 2
}
