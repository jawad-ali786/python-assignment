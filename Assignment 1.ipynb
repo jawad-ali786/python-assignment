{
 "cells": [
  {
   "cell_type": "code",
   "execution_count": 1,
   "metadata": {},
   "outputs": [
    {
     "name": "stdout",
     "output_type": "stream",
     "text": [
      "  Twinkle, twinkle, little star,\n",
      "\t How I wonder what you are! \n",
      "\t       Up above the world so high, \n",
      "\t       Like a diamond in the sky.\n",
      "  Twinkle, twinkle, little star,\n",
      "\t How I wonder what you are!\n"
     ]
    }
   ],
   "source": [
    "#Q1.Write a Python program to print the following string in a specific format (see the output).\n",
    "p1 = \"  Twinkle, twinkle, little star,\"\n",
    "p2 = \"\\t How I wonder what you are!\"\n",
    "p3 = p1 + \"\\n\" + p2\n",
    "p4 = \"\\n\\t       Up above the world so high, \\n\\t       Like a diamond in the sky.\"\n",
    "print(p3 , p4)\n",
    "print (p3) "
   ]
  },
  {
   "cell_type": "code",
   "execution_count": 2,
   "metadata": {},
   "outputs": [
    {
     "name": "stdout",
     "output_type": "stream",
     "text": [
      "Python version\n",
      "3.7.3 | packaged by conda-forge | (default, Jul  1 2019, 21:52:21) \n",
      "[GCC 7.3.0]\n",
      "Version info.\n",
      "sys.version_info(major=3, minor=7, micro=3, releaselevel='final', serial=0)\n"
     ]
    }
   ],
   "source": [
    "#Q2. Write a Python program to get the Python version you are using.\n",
    "import sys\n",
    "print(\"Python version\")\n",
    "print (sys.version)\n",
    "print(\"Version info.\")\n",
    "print (sys.version_info)"
   ]
  },
  {
   "cell_type": "code",
   "execution_count": 3,
   "metadata": {},
   "outputs": [
    {
     "name": "stdout",
     "output_type": "stream",
     "text": [
      "Current date and time :\n",
      " 2019-11-05 13:31:35.616351\n"
     ]
    }
   ],
   "source": [
    "#Q3.Write a Python program to display the current date and time.\n",
    "import datetime\n",
    "now = datetime.datetime.now()\n",
    "print (\"Current date and time :\\n\",now)"
   ]
  },
  {
   "cell_type": "code",
   "execution_count": 4,
   "metadata": {},
   "outputs": [
    {
     "name": "stdin",
     "output_type": "stream",
     "text": [
      "Enter The Value of Radius : 10\n"
     ]
    },
    {
     "name": "stdout",
     "output_type": "stream",
     "text": [
      "The Area of Circle with radius 10.0 Is : 314.1592653589793\n"
     ]
    }
   ],
   "source": [
    "#Q4.Write a Python program which accepts the radius of a circle from the user and compute the area.\n",
    "\n",
    "from math import pi\n",
    "radius = float(input(\"Enter The Value of Radius :\"))\n",
    "print (\"The Area of Circle with radius \" + str(radius) + \" Is : \" + str(pi * radius**2 ))\n"
   ]
  },
  {
   "cell_type": "code",
   "execution_count": 5,
   "metadata": {},
   "outputs": [
    {
     "name": "stdin",
     "output_type": "stream",
     "text": [
      "Enter Your First Name :  Jawad\n",
      "Enter Your Last Name :  Ali\n"
     ]
    },
    {
     "name": "stdout",
     "output_type": "stream",
     "text": [
      "Your First And Last name Is:  Jawad Ali\n",
      "In Reverse Order :  Ali Jawad\n"
     ]
    }
   ],
   "source": [
    "\"\"\"\n",
    "Q5.Write a Python program which accepts the user's first and last name \n",
    "and print them in reverse order with a space between them.\n",
    "\"\"\"\n",
    "First_name = input(\"Enter Your First Name : \")\n",
    "Last_name = input(\"Enter Your Last Name : \")\n",
    "print (\"Your First And Last name Is: \" , First_name , Last_name)\n",
    "print (\"In Reverse Order : \", Last_name , First_name)\n"
   ]
  },
  {
   "cell_type": "code",
   "execution_count": 6,
   "metadata": {},
   "outputs": [
    {
     "name": "stdin",
     "output_type": "stream",
     "text": [
      "Enter First Number :  10\n",
      "Enter Second Number :  20\n"
     ]
    },
    {
     "name": "stdout",
     "output_type": "stream",
     "text": [
      "The Sum of 10.0 And 20.0 Is: 30.0\n"
     ]
    }
   ],
   "source": [
    "#Q6. Write a python program which takes two inputs from user and print them addition.\n",
    "\n",
    "number1 = float (input(\"Enter First Number : \"))\n",
    "number2 = float (input(\"Enter Second Number : \"))\n",
    "sum = float (number1 + number2)\n",
    "print (\"The Sum of \" + str(number1) + \" \"+ \"And\"+ \" \" + str(number2) + \" \" + \"Is:\",sum)"
   ]
  },
  {
   "cell_type": "code",
   "execution_count": null,
   "metadata": {},
   "outputs": [],
   "source": []
  }
 ],
 "metadata": {
  "kernelspec": {
   "display_name": "Python 3",
   "language": "python",
   "name": "python3"
  },
  "language_info": {
   "codemirror_mode": {
    "name": "ipython",
    "version": 3
   },
   "file_extension": ".py",
   "mimetype": "text/x-python",
   "name": "python",
   "nbconvert_exporter": "python",
   "pygments_lexer": "ipython3",
   "version": "3.7.3"
  }
 },
 "nbformat": 4,
 "nbformat_minor": 4
}
