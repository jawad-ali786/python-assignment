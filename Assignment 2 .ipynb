{
 "cells": [
  {
   "cell_type": "code",
   "execution_count": 5,
   "metadata": {},
   "outputs": [
    {
     "name": "stdout",
     "output_type": "stream",
     "text": [
      "Hello,Program Of Marksheet In Python\n",
      "Enter Your Digital Logic Design Marks : 70\n",
      "Enter Your Technical Bussiness Writting Marks : 70\n",
      "Enter Your Statistic Marks : 80\n",
      "Enter Your Discrete Structure Marks : 80\n",
      "Enter Your Object Oriented Program Marks : 90\n",
      "Enter Your Pakistan Studies Marks : 75\n",
      "Total Marks is : 465.0\n",
      "Your Percentage Is : 77.5%\n",
      "Grade A\n"
     ]
    }
   ],
   "source": [
    "#Q.1 5 user input and total of its and make a marksheet with Grade?\n",
    "print(\"Hello,\"+\"Program Of Marksheet In Python\")\n",
    "DLD = float(input(\"Enter Your Digital Logic Design Marks : \"))\n",
    "TBW = float(input(\"Enter Your Technical Bussiness Writting Marks : \"))\n",
    "STS = float(input(\"Enter Your Statistic Marks : \"))\n",
    "DS = float(input(\"Enter Your Discrete Structure Marks : \"))\n",
    "OOPS = float(input(\"Enter Your Object Oriented Program Marks : \"))\n",
    "PAK = float(input(\"Enter Your Pakistan Studies Marks : \"))\n",
    "total = DLD + TBW + STS + DS + OOPS + PAK\n",
    "print(\"Total Marks is : \" + str(total))\n",
    "per = (total / 600)*100\n",
    "print(\"Your Percentage Is : \" + str(per) + \"%\")\n",
    "if per >= 80 and per <= 100:\n",
    "    print(\"Grade A+\")\n",
    "elif per >= 70 and per < 80 :\n",
    "        print(\"Grade A\")\n",
    "elif per >= 60 and per < 70 :\n",
    "        print(\"Grade B\")\n",
    "elif per >= 50 and per < 60 :\n",
    "        print(\"Grade C\")\n",
    "elif per >= 40 and per < 50 :\n",
    "        print(\"Grade D\")\n",
    "elif per >= 30 and per < 40 :\n",
    "        print(\"Grade F\")\n",
    "elif per >= 0 and per < 30  :\n",
    "        print(\" Better Luck Next Time :)  \")\n",
    "else :\n",
    "    print (\" The % You enter is inappropriate :) \" )"
   ]
  },
  {
   "cell_type": "code",
   "execution_count": 10,
   "metadata": {},
   "outputs": [
    {
     "name": "stdout",
     "output_type": "stream",
     "text": [
      "Enter Any Number to identify it is Even or Odd : 45\n",
      "The Number You enter is Odd\n"
     ]
    }
   ],
   "source": [
    "#Q.2 Even or Odd Number?\n",
    "\n",
    "var = int(input(\"Enter Any Number to identify it is Even or Odd : \"))\n",
    "if var /2 == 0:\n",
    "    print(\"The Number You enter is Even\")\n",
    "else :\n",
    "    print(\"The Number You enter is Odd\")"
   ]
  },
  {
   "cell_type": "code",
   "execution_count": 13,
   "metadata": {},
   "outputs": [
    {
     "name": "stdout",
     "output_type": "stream",
     "text": [
      "The Length Of The List Is :  11\n"
     ]
    }
   ],
   "source": [
    "#Q.3 The Length Of the List?\n",
    "\n",
    "a = [1,1,2,3,5,8,13,21,34,55,89]\n",
    "print(\"The Length Of The List Is : \", len(a))"
   ]
  },
  {
   "cell_type": "code",
   "execution_count": 14,
   "metadata": {},
   "outputs": [
    {
     "name": "stdout",
     "output_type": "stream",
     "text": [
      "Sum Of List Is :  232\n"
     ]
    }
   ],
   "source": [
    "#Q.4 sum of numeric item in the list?\n",
    "\n",
    "a = [1,1,2,3,5,8,13,21,34,55,89]\n",
    "print(\"Sum Of List Is : \", sum(a))"
   ]
  },
  {
   "cell_type": "code",
   "execution_count": 21,
   "metadata": {},
   "outputs": [
    {
     "name": "stdout",
     "output_type": "stream",
     "text": [
      "The Sum Number Is :  3879\n"
     ]
    }
   ],
   "source": [
    "#Q.4 sum of numeric item in the list?\n",
    "    \n",
    "a = [45,78,54,12,12,210,456,464,741,123,1684]\n",
    "print(\"The Sum Number Is : \",sum(a))"
   ]
  },
  {
   "cell_type": "code",
   "execution_count": 22,
   "metadata": {},
   "outputs": [
    {
     "name": "stdout",
     "output_type": "stream",
     "text": [
      "The Largest Number Is :  89\n"
     ]
    }
   ],
   "source": [
    "#Q.5 Largest  Number From The List?\n",
    "\n",
    "a = [1,1,2,3,5,8,13,21,34,55,89]\n",
    "print(\"The Largest Number Is : \" , max(a))"
   ]
  },
  {
   "cell_type": "code",
   "execution_count": 23,
   "metadata": {},
   "outputs": [
    {
     "name": "stdout",
     "output_type": "stream",
     "text": [
      "The Largest Number Is :  1684\n"
     ]
    }
   ],
   "source": [
    "#Q.5 Largest  Number From The List?\n",
    "\n",
    "a = [45,78,54,12,12,210,456,464,741,123,1684]\n",
    "print(\"The Largest Number Is : \" , max(a))"
   ]
  },
  {
   "cell_type": "code",
   "execution_count": 66,
   "metadata": {},
   "outputs": [
    {
     "name": "stdout",
     "output_type": "stream",
     "text": [
      "1\n",
      "1\n",
      "2\n",
      "3\n"
     ]
    }
   ],
   "source": [
    "#Q.6 Take a List and tak out the element which is less than 5?\n",
    "\n",
    "a = [1,1,2,3,5,8,13,21,34,55,89]\n",
    "for i in a:\n",
    "    if i<5:\n",
    "        print(i)\n"
   ]
  },
  {
   "cell_type": "code",
   "execution_count": 60,
   "metadata": {},
   "outputs": [
    {
     "name": "stdout",
     "output_type": "stream",
     "text": [
      "0.5\n",
      "1\n",
      "3\n",
      "4\n",
      "4.5\n",
      "1.5\n",
      "2\n",
      "4\n",
      "1\n"
     ]
    }
   ],
   "source": [
    " a = [0.5,1,3,4,4.5,6,7,10,32,45,1.5,2,4,87,9,1]\n",
    "for i in a:\n",
    "    if i<5:\n",
    "        print(i)\n"
   ]
  }
 ],
 "metadata": {
  "kernelspec": {
   "display_name": "Python 3",
   "language": "python",
   "name": "python3"
  },
  "language_info": {
   "codemirror_mode": {
    "name": "ipython",
    "version": 3
   },
   "file_extension": ".py",
   "mimetype": "text/x-python",
   "name": "python",
   "nbconvert_exporter": "python",
   "pygments_lexer": "ipython3",
   "version": "3.7.4"
  }
 },
 "nbformat": 4,
 "nbformat_minor": 4
}
