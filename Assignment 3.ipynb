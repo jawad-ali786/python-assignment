{
 "cells": [
  {
   "cell_type": "code",
   "execution_count": 14,
   "metadata": {},
   "outputs": [
    {
     "name": "stdout",
     "output_type": "stream",
     "text": [
      "Enter First Digit : 2\n",
      "Select Oprerator Which Is Perform For Powring Use this '^' : ^\n",
      "Enter Second Digit : 2\n",
      "4.0\n"
     ]
    }
   ],
   "source": [
    "#Q.1 Mak a Calculator using Python?\n",
    "a = float(input(\"Enter First Digit : \"))\n",
    "c = input(\"Select Oprerator Which Is Perform For Powring Use this \\'^' : \")\n",
    "b = float(input(\"Enter Second Digit : \"))\n",
    "\n",
    "if c == '+': \n",
    "    print(a+b)\n",
    "elif c == '-':\n",
    "        print(a-b)\n",
    "elif c == '*':\n",
    "        print(a*b)\n",
    "elif c == '/':\n",
    "        print(a/b)\n",
    "elif c == '^':\n",
    "        print(a**b)\n",
    "else:\n",
    "    print(\"Please enter Correct Operator\")"
   ]
  },
  {
   "cell_type": "code",
   "execution_count": 131,
   "metadata": {},
   "outputs": [
    {
     "name": "stdout",
     "output_type": "stream",
     "text": [
      "There Is A Numeric Value \n",
      "Sir Ye Wala Question Nhe Ho Rha hai\n"
     ]
    },
    {
     "ename": "AttributeError",
     "evalue": "'int' object has no attribute 'isnumeric'",
     "output_type": "error",
     "traceback": [
      "\u001b[1;31m---------------------------------------------------------------------------\u001b[0m",
      "\u001b[1;31mAttributeError\u001b[0m                            Traceback (most recent call last)",
      "\u001b[1;32m<ipython-input-131-a0ca5bd6ec22>\u001b[0m in \u001b[0;36m<module>\u001b[1;34m\u001b[0m\n\u001b[0;32m      4\u001b[0m \u001b[1;33m\u001b[0m\u001b[0m\n\u001b[0;32m      5\u001b[0m \u001b[1;32mfor\u001b[0m \u001b[0ma\u001b[0m \u001b[1;32min\u001b[0m \u001b[0mb\u001b[0m\u001b[1;33m:\u001b[0m\u001b[1;33m\u001b[0m\u001b[1;33m\u001b[0m\u001b[0m\n\u001b[1;32m----> 6\u001b[1;33m     \u001b[0ma\u001b[0m\u001b[1;33m.\u001b[0m\u001b[0misnumeric\u001b[0m\u001b[1;33m(\u001b[0m\u001b[1;33m)\u001b[0m\u001b[1;33m\u001b[0m\u001b[1;33m\u001b[0m\u001b[0m\n\u001b[0m\u001b[0;32m      7\u001b[0m     \u001b[0mprint\u001b[0m\u001b[1;33m(\u001b[0m\u001b[1;34m\"There Is A Numeric Value \"\u001b[0m\u001b[1;33m)\u001b[0m\u001b[1;33m\u001b[0m\u001b[1;33m\u001b[0m\u001b[0m\n\u001b[0;32m      8\u001b[0m \u001b[1;33m\u001b[0m\u001b[0m\n",
      "\u001b[1;31mAttributeError\u001b[0m: 'int' object has no attribute 'isnumeric'"
     ]
    }
   ],
   "source": [
    "#Q.2 Write a program to check if there is any numeric value in list using for loop?\n",
    "\n",
    "b =['jawad',2,'ali',5,'hamza',6,'akber']\n",
    "\n",
    "for a in b:\n",
    "    a.isnumeric()\n",
    "    print(\"There Is A Numeric Value \")\n",
    "    \n",
    "    print(\"Sir Ye Wala Question Nhe Ho Rha hai\")\n"
   ]
  },
  {
   "cell_type": "code",
   "execution_count": 135,
   "metadata": {},
   "outputs": [
    {
     "name": "stdout",
     "output_type": "stream",
     "text": [
      "{'Ali': 4, 'Akbr': 2}\n"
     ]
    }
   ],
   "source": [
    "#Q.3 add a key to a dictionary\n",
    "a = {}\n",
    "a.update({'Ali':4})\n",
    "a.update({'Akbr':2})\n",
    "print(a)"
   ]
  },
  {
   "cell_type": "code",
   "execution_count": 58,
   "metadata": {},
   "outputs": [
    {
     "name": "stdout",
     "output_type": "stream",
     "text": [
      "The Sum Of Dictionary Is :  35\n"
     ]
    }
   ],
   "source": [
    "#Q.4 Sum of a dictionary\n",
    "\n",
    "a = {'Ali' : 2 , 'Jawad' : 3 , 'hamza' : 5 , 'akbr' : 25}\n",
    "sumb = sum(a.values())\n",
    "print(\"The Sum Of Dictionary Is : \", sumb )"
   ]
  },
  {
   "cell_type": "code",
   "execution_count": 121,
   "metadata": {},
   "outputs": [
    {
     "name": "stdout",
     "output_type": "stream",
     "text": [
      " Sorted List\n",
      "[6, 7, 11, 15, 15, 20, 20, 20, 30, 30, 40, 40, 50, 50]\n",
      "Duplicate element of list\n",
      "[15, 20, 30, 40, 50]\n"
     ]
    }
   ],
   "source": [
    "#Q.5  Identify Duplicate values from a list\n",
    "my_list = [20,30,20,30,40,50,15,11,20,40,50,15,6,7]\n",
    " \n",
    "my_list.sort()\n",
    "print(\" Sorted List\")\n",
    "print(my_list)\n",
    " \n",
    "new_list = sorted(set(my_list))\n",
    "dup_list =[]\n",
    " \n",
    "for i in range(len(new_list)):\n",
    "        if (my_list.count(new_list[i]) > 1 ):\n",
    "            dup_list.append(new_list[i])\n",
    "print(\"Duplicate element of list\")\n",
    "print(dup_list) "
   ]
  },
  {
   "cell_type": "code",
   "execution_count": 126,
   "metadata": {},
   "outputs": [
    {
     "name": "stdout",
     "output_type": "stream",
     "text": [
      "Present,  value = 200\n"
     ]
    }
   ],
   "source": [
    "#Q.6 A given key already exists in Dictionary?\n",
    "\n",
    "dict = {'a': 100, 'b':200, 'c':300} \n",
    "  \n",
    "key = 'b'\n",
    "if key in dict: \n",
    "        print(\"Present, \", end =\" \") \n",
    "        print(\"value =\", dict[key]) \n",
    "else: \n",
    "        print(\"Not present\")"
   ]
  },
  {
   "cell_type": "code",
   "execution_count": 127,
   "metadata": {},
   "outputs": [
    {
     "name": "stdout",
     "output_type": "stream",
     "text": [
      "Not present\n"
     ]
    }
   ],
   "source": [
    "#Q.6 A given key already exists in Dictionary?\n",
    "dict = {'a': 100, 'b':200, 'c':300} \n",
    "  \n",
    "key = 'w'\n",
    "\n",
    "if key in dict: \n",
    "        print(\"Present, \", end =\" \") \n",
    "        print(\"value =\", dict[key]) \n",
    "else: \n",
    "        print(\"Not present\")"
   ]
  },
  {
   "cell_type": "code",
   "execution_count": null,
   "metadata": {},
   "outputs": [],
   "source": []
  }
 ],
 "metadata": {
  "kernelspec": {
   "display_name": "Python 3",
   "language": "python",
   "name": "python3"
  },
  "language_info": {
   "codemirror_mode": {
    "name": "ipython",
    "version": 3
   },
   "file_extension": ".py",
   "mimetype": "text/x-python",
   "name": "python",
   "nbconvert_exporter": "python",
   "pygments_lexer": "ipython3",
   "version": "3.7.4"
  }
 },
 "nbformat": 4,
 "nbformat_minor": 2
}
